{
 "cells": [
  {
   "cell_type": "code",
   "execution_count": 1,
   "id": "7af1a95b",
   "metadata": {},
   "outputs": [],
   "source": [
    "import pandas as pd\n",
    "import numpy as np\n",
    "import matplotlib.pyplot as plt\n",
    "import warnings\n",
    "from sklearn.model_selection import StratifiedKFold, cross_val_score\n",
    "from sklearn import svm\n",
    "from sklearn.naive_bayes import GaussianNB\n",
    "from elm import ELM\n",
    "import seaborn as sns"
   ]
  },
  {
   "cell_type": "code",
   "execution_count": 2,
   "id": "51aa7bef",
   "metadata": {},
   "outputs": [
    {
     "data": {
      "text/plain": [
       "(11054, 32)"
      ]
     },
     "execution_count": 2,
     "metadata": {},
     "output_type": "execute_result"
    }
   ],
   "source": [
    "data = pd.read_csv(\"phishing.csv\")\n",
    "data.shape"
   ]
  },
  {
   "cell_type": "markdown",
   "id": "5b55a2e1",
   "metadata": {},
   "source": [
    "## Data cleaning"
   ]
  },
  {
   "cell_type": "code",
   "execution_count": 3,
   "id": "4172fabc",
   "metadata": {},
   "outputs": [
    {
     "data": {
      "text/plain": [
       "Index                  0\n",
       "UsingIP                0\n",
       "LongURL                0\n",
       "ShortURL               0\n",
       "Symbol@                0\n",
       "Redirecting//          0\n",
       "PrefixSuffix-          0\n",
       "SubDomains             0\n",
       "HTTPS                  0\n",
       "DomainRegLen           0\n",
       "Favicon                0\n",
       "NonStdPort             0\n",
       "HTTPSDomainURL         0\n",
       "RequestURL             0\n",
       "AnchorURL              0\n",
       "LinksInScriptTags      0\n",
       "ServerFormHandler      0\n",
       "InfoEmail              0\n",
       "AbnormalURL            0\n",
       "WebsiteForwarding      0\n",
       "StatusBarCust          0\n",
       "DisableRightClick      0\n",
       "UsingPopupWindow       0\n",
       "IframeRedirection      0\n",
       "AgeofDomain            0\n",
       "DNSRecording           0\n",
       "WebsiteTraffic         0\n",
       "PageRank               0\n",
       "GoogleIndex            0\n",
       "LinksPointingToPage    0\n",
       "StatsReport            0\n",
       "class                  0\n",
       "dtype: int64"
      ]
     },
     "execution_count": 3,
     "metadata": {},
     "output_type": "execute_result"
    }
   ],
   "source": [
    "# check for null values\n",
    "data.isnull().sum()\n",
    "\n",
    "# we don't have any null values"
   ]
  },
  {
   "cell_type": "code",
   "execution_count": 4,
   "id": "55df9514",
   "metadata": {},
   "outputs": [
    {
     "data": {
      "text/plain": [
       "(11054, 32)"
      ]
     },
     "execution_count": 4,
     "metadata": {},
     "output_type": "execute_result"
    }
   ],
   "source": [
    "# There are no duplicates\n",
    "data = data.drop_duplicates(keep='first')\n",
    "data.shape"
   ]
  },
  {
   "cell_type": "code",
   "execution_count": 5,
   "id": "747a8b2d",
   "metadata": {},
   "outputs": [
    {
     "data": {
      "text/plain": [
       "Index                  int64\n",
       "UsingIP                int64\n",
       "LongURL                int64\n",
       "ShortURL               int64\n",
       "Symbol@                int64\n",
       "Redirecting//          int64\n",
       "PrefixSuffix-          int64\n",
       "SubDomains             int64\n",
       "HTTPS                  int64\n",
       "DomainRegLen           int64\n",
       "Favicon                int64\n",
       "NonStdPort             int64\n",
       "HTTPSDomainURL         int64\n",
       "RequestURL             int64\n",
       "AnchorURL              int64\n",
       "LinksInScriptTags      int64\n",
       "ServerFormHandler      int64\n",
       "InfoEmail              int64\n",
       "AbnormalURL            int64\n",
       "WebsiteForwarding      int64\n",
       "StatusBarCust          int64\n",
       "DisableRightClick      int64\n",
       "UsingPopupWindow       int64\n",
       "IframeRedirection      int64\n",
       "AgeofDomain            int64\n",
       "DNSRecording           int64\n",
       "WebsiteTraffic         int64\n",
       "PageRank               int64\n",
       "GoogleIndex            int64\n",
       "LinksPointingToPage    int64\n",
       "StatsReport            int64\n",
       "class                  int64\n",
       "dtype: object"
      ]
     },
     "execution_count": 5,
     "metadata": {},
     "output_type": "execute_result"
    }
   ],
   "source": [
    "# all columns are categorical, we can keep them as is\n",
    "data.dtypes"
   ]
  },
  {
   "cell_type": "markdown",
   "id": "9fc7c1e7",
   "metadata": {},
   "source": [
    "## Exploratory analysis"
   ]
  },
  {
   "cell_type": "code",
   "execution_count": 6,
   "id": "109d16ec",
   "metadata": {},
   "outputs": [
    {
     "data": {
      "text/plain": [
       "Index                  0.000802\n",
       "UsingIP                0.094033\n",
       "LongURL                0.057661\n",
       "ShortURL              -0.067931\n",
       "Symbol@                0.052994\n",
       "Redirecting//         -0.038885\n",
       "PrefixSuffix-          0.348588\n",
       "SubDomains             0.298231\n",
       "HTTPS                  0.714704\n",
       "DomainRegLen          -0.225879\n",
       "Favicon               -0.000231\n",
       "NonStdPort             0.036461\n",
       "HTTPSDomainURL        -0.040096\n",
       "RequestURL             0.253478\n",
       "AnchorURL              0.692895\n",
       "LinksInScriptTags      0.248415\n",
       "ServerFormHandler      0.221380\n",
       "InfoEmail              0.018039\n",
       "AbnormalURL           -0.060751\n",
       "WebsiteForwarding     -0.020151\n",
       "StatusBarCust          0.041878\n",
       "DisableRightClick      0.012675\n",
       "UsingPopupWindow       0.000136\n",
       "IframeRedirection     -0.003362\n",
       "AgeofDomain            0.121402\n",
       "DNSRecording           0.075579\n",
       "WebsiteTraffic         0.346003\n",
       "PageRank               0.104593\n",
       "GoogleIndex            0.129000\n",
       "LinksPointingToPage    0.032694\n",
       "StatsReport            0.079632\n",
       "class                  1.000000\n",
       "Name: class, dtype: float64"
      ]
     },
     "execution_count": 6,
     "metadata": {},
     "output_type": "execute_result"
    }
   ],
   "source": [
    "# Correlation with class\n",
    "\n",
    "data.corr()['class']\n",
    "\n",
    "# https and AnchorURL has the highest correlation, implying that https sites are more secure\n",
    "# UsingPopupWindow has the least correlation"
   ]
  },
  {
   "cell_type": "code",
   "execution_count": 7,
   "id": "04fac311",
   "metadata": {},
   "outputs": [
    {
     "data": {
      "image/png": "[encoded data removed]",
      "text/plain": [
       "<Figure size 480x480 with 1 Axes>"
      ]
     },
     "metadata": {},
     "output_type": "display_data"
    }
   ],
   "source": [
    "# Correlation matrix\n",
    "\n",
    "plt.matshow(data.corr())\n",
    "plt.show()"
   ]
  },
  {
   "cell_type": "code",
   "execution_count": 8,
   "id": "390ee479",
   "metadata": {
    "scrolled": true
   },
   "outputs": [
    {
     "data": {
      "image/png": "[encoded data removed]",
      "text/plain": [
       "<Figure size 640x480 with 1 Axes>"
      ]
     },
     "metadata": {},
     "output_type": "display_data"
    }
   ],
   "source": [
    "# Check how many entries are phishing\n",
    "data['class'].value_counts().plot(kind='bar')\n",
    "plt.title(\"Phishing Count (1 is phishing, -1 is non phishing)\")\n",
    "plt.show()\n",
    "# Dataset is unbalanced, we have more phishing sites compared to non phishing ones"
   ]
  },
  {
   "cell_type": "markdown",
   "id": "4557cb18",
   "metadata": {},
   "source": [
    "## Maching learning Model"
   ]
  },
  {
   "cell_type": "code",
   "execution_count": 9,
   "id": "802b4999",
   "metadata": {},
   "outputs": [],
   "source": [
    "# Cross validation, split the dataset \n",
    "\n",
    "X = data.iloc[:, :31]\n",
    "y = data.iloc[:, 31]\n"
   ]
  },
  {
   "cell_type": "markdown",
   "id": "e9c32c68",
   "metadata": {},
   "source": [
    "### SVM Model"
   ]
  },
  {
   "cell_type": "code",
   "execution_count": 10,
   "id": "03fb9e61",
   "metadata": {},
   "outputs": [
    {
     "name": "stdout",
     "output_type": "stream",
     "text": [
      "Accuracy:  0.55699 +/- 0.00011\n",
      "Precision Score:  0.55699 +/- 0.00011\n",
      "Recall Score:  1.00000 +/- 0.00000\n",
      "ROC-AUC:  0.69400 +/- 0.17060\n",
      "F1:  0.39851 +/- 0.00013\n"
     ]
    }
   ],
   "source": [
    "svm_model = svm.SVC(probability=True)\n",
    "\n",
    "skf = StratifiedKFold(n_splits = 3)\n",
    "\n",
    "scores = cross_val_score(svm_model, X, y, cv=skf, scoring='accuracy')\n",
    "print(\"Accuracy:  %0.5f +/- %0.5f\" % (scores.mean(), scores.std()))\n",
    "\n",
    "scores = cross_val_score(svm_model, X, y, cv=skf, scoring='precision')\n",
    "print(\"Precision Score:  %0.5f +/- %0.5f\" % (scores.mean(), scores.std()))\n",
    "\n",
    "scores = cross_val_score(svm_model, X, y, cv=skf, scoring='recall')\n",
    "print(\"Recall Score:  %0.5f +/- %0.5f\" % (scores.mean(), scores.std()))\n",
    "\n",
    "scores = cross_val_score(svm_model, X, y, cv=skf, scoring='roc_auc_ovr_weighted')\n",
    "print(\"ROC-AUC:  %0.5f +/- %0.5f\" % (scores.mean(), scores.std()))\n",
    "\n",
    "scores = cross_val_score(svm_model, X, y, cv=skf, scoring='f1_weighted')\n",
    "print(\"F1:  %0.5f +/- %0.5f\" % (scores.mean(), scores.std()))"
   ]
  },
  {
   "cell_type": "markdown",
   "id": "a56a577f",
   "metadata": {},
   "source": [
    "### Naive Bayes"
   ]
  },
  {
   "cell_type": "code",
   "execution_count": 11,
   "id": "c594dfcc",
   "metadata": {},
   "outputs": [
    {
     "name": "stdout",
     "output_type": "stream",
     "text": [
      "Accuracy Score:  0.86322 +/- 0.02082\n",
      "Precision Score:  0.93881 +/- 0.00409\n"
     ]
    }
   ],
   "source": [
    "nb_model = GaussianNB()\n",
    "\n",
    "skf = StratifiedKFold(n_splits = 3)\n",
    "\n",
    "scores = cross_val_score(nb_model, X, y, cv=skf, scoring='accuracy')\n",
    "print(\"Accuracy Score:  %0.5f +/- %0.5f\" % (scores.mean(), scores.std()))\n",
    "\n",
    "scores = cross_val_score(nb_model, X, y, cv=skf, scoring='precision')\n",
    "print(\"Precision Score:  %0.5f +/- %0.5f\" % (scores.mean(), scores.std()))\n",
    "\n"
   ]
  },
  {
   "cell_type": "code",
   "execution_count": 12,
   "id": "de55ea1f",
   "metadata": {},
   "outputs": [
    {
     "name": "stdout",
     "output_type": "stream",
     "text": [
      "Recall Score:  0.80688 +/- 0.03668\n",
      "ROC-AUC Score:  0.95695 +/- 0.00526\n",
      "F1 Score:  0.86353 +/- 0.02090\n"
     ]
    }
   ],
   "source": [
    "scores = cross_val_score(nb_model, X, y, cv=skf, scoring='recall')\n",
    "print(\"Recall Score:  %0.5f +/- %0.5f\" % (scores.mean(), scores.std()))\n",
    "\n",
    "scores = cross_val_score(nb_model, X, y, cv=skf, scoring='roc_auc_ovr_weighted')\n",
    "print(\"ROC-AUC Score:  %0.5f +/- %0.5f\" % (scores.mean(), scores.std()))\n",
    "\n",
    "scores = cross_val_score(nb_model, X, y, cv=skf, scoring='f1_weighted')\n",
    "print(\"F1 Score:  %0.5f +/- %0.5f\" % (scores.mean(), scores.std()))"
   ]
  },
  {
   "cell_type": "markdown",
   "id": "fd441393",
   "metadata": {},
   "source": [
    "### Extreme Learning Machines (ELM)"
   ]
  },
  {
   "cell_type": "code",
   "execution_count": 13,
   "id": "f4b0e699",
   "metadata": {},
   "outputs": [
    {
     "name": "stdout",
     "output_type": "stream",
     "text": [
      "Accuracy Score:  0.55699 +/- 0.00013\n",
      "Precision Score:  0.56582 +/- 0.01517\n"
     ]
    }
   ],
   "source": [
    "elm_model = ELM(hid_num=30)\n",
    "\n",
    "skf = StratifiedKFold(n_splits = 4)\n",
    "\n",
    "scores = cross_val_score(elm_model, X, y, cv=skf, scoring='accuracy')\n",
    "print(\"Accuracy Score:  %0.5f +/- %0.5f\" % (scores.mean(), scores.std()))\n",
    "\n",
    "scores = cross_val_score(elm_model, X, y, cv=skf, scoring='precision')\n",
    "print(\"Precision Score:  %0.5f +/- %0.5f\" % (scores.mean(), scores.std()))\n",
    "\n"
   ]
  },
  {
   "cell_type": "code",
   "execution_count": 14,
   "id": "4e4b87c9",
   "metadata": {},
   "outputs": [
    {
     "name": "stdout",
     "output_type": "stream",
     "text": [
      "Recall Score:  1.00000 +/- 0.00000\n",
      "F1 Score:  0.43435 +/- 0.06208\n"
     ]
    }
   ],
   "source": [
    "scores = cross_val_score(elm_model, X, y, cv=skf, scoring='recall')\n",
    "print(\"Recall Score:  %0.5f +/- %0.5f\" % (scores.mean(), scores.std()))\n",
    "\n",
    "# ROC AUC is not supported for ELM\n",
    "# scores = cross_val_score(elm_model, X, y, cv=skf, scoring='roc_auc_ovr_weighted')\n",
    "# print(\"ROC-AUC Score:  %0.5f +/- %0.5f\" % (scores.mean(), scores.std()))\n",
    "\n",
    "scores = cross_val_score(elm_model, X, y, cv=skf, scoring='f1_weighted')\n",
    "print(\"F1 Score:  %0.5f +/- %0.5f\" % (scores.mean(), scores.std()))"
   ]
  },
  {
   "cell_type": "markdown",
   "id": "fd878410",
   "metadata": {},
   "source": [
    "### Summary\n",
    "\n",
    "As we can see in the above models, we used stratified k fold for cross validation and used the cross_val_score to train and provide scoring such as accuracy, precision, recall, f1_weighted. ROC curve was not supported for ELM so we skipped and used the other metrics to compute the performance of the model.\n",
    "\n",
    "We initially tried to used the ELM module from python, but we faced issues so switched to https://github.com/masaponto/Python-ELM.\n",
    "\n",
    "Out of all the models, Navie bayes had the highest accuracy. ELM and SVM both performed the same at 55% which was not very performative. But they had the highest Recall scores meaning that they were good at identifying true positives. SVM model took significantly longer than the ELM model to train and evaluate. Thus ELM model provided better recall with lower time to train. This would be helpful in real time scenarios where we have to retrain the model with live data."
   ]
  }
 ],
 "metadata": {
  "kernelspec": {
   "display_name": "Python 3 (ipykernel)",
   "language": "python",
   "name": "python3"
  },
  "language_info": {
   "codemirror_mode": {
    "name": "ipython",
    "version": 3
   },
   "file_extension": ".py",
   "mimetype": "text/x-python",
   "name": "python",
   "nbconvert_exporter": "python",
   "pygments_lexer": "ipython3",
   "version": "3.10.8"
  }
 },
 "nbformat": 4,
 "nbformat_minor": 5
}
